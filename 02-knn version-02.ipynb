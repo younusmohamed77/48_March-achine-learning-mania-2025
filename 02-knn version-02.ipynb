{
 "cells": [
  {
   "cell_type": "markdown",
   "id": "38a71204",
   "metadata": {
    "papermill": {
     "duration": 0.003623,
     "end_time": "2025-02-25T15:28:38.221465",
     "exception": false,
     "start_time": "2025-02-25T15:28:38.217842",
     "status": "completed"
    },
    "tags": []
   },
   "source": [
    "# **Discussion & Key Takeaways**\n",
    "\n",
    "### **Introduction**\n",
    "In this submission notebook, I integrated extensive EDA insights with approaches from previous top solutions. I computed Elo ratings from historical detailed game results and built a two‐stage model where a KNN regressor predicts the game margin from the Elo difference. This margin is then transformed via a logistic function to yield a win probability. Separate models for men and women are used—since team ID ranges differ—to accurately reflect scoring patterns and dynamics.\n",
    "\n",
    "### **Findings from the EDA**\n",
    "- **Data Completeness:** Our exploratory analysis confirmed that the dataset is comprehensive with minimal missing values.\n",
    "- **Score Distributions:** Histograms and boxplots indicated that men’s winning scores are generally higher than women’s, and margins (score differences) are consistent with typical game dynamics.\n",
    "- **Correlations:** Strong correlations were found between scoring statistics (e.g., field goals made, shooting attempts) and game outcomes, supporting the use of these features for margin prediction.\n",
    "- **Season Trends:** Time-series plots demonstrated stable trends over the years with some variation that could be linked to rule changes or evolving game pace.\n",
    "- **Geographic Spread:** USA map visualizations showed games distributed widely across states, emphasizing the broad geographic appeal of NCAA basketball.\n",
    "\n",
    "### **Approach & Model Strategy**\n",
    "Based on previous winning solutions and our EDA:\n",
    "- **Elo Ratings:** We used a simple Elo system to compute team strengths over time.\n",
    "- **Margin Modeling:** A KNN regressor was trained to predict the margin (difference between winning and losing scores) using the Elo difference as a feature.\n",
    "- **Probability Conversion:** A logistic function converts the predicted margin to a win probability.\n",
    "- **Separate Models:** Men’s and women’s games are handled separately (based on team ID ranges), reflecting differences in scoring patterns."
   ]
  },
  {
   "cell_type": "code",
   "execution_count": 1,
   "id": "971d5ba3",
   "metadata": {
    "_cell_guid": "b1076dfc-b9ad-4769-8c92-a6c4dae69d19",
    "_uuid": "8f2839f25d086af736a60e9eeb907d3b93b6e0e5",
    "execution": {
     "iopub.execute_input": "2025-02-25T15:28:38.229359Z",
     "iopub.status.busy": "2025-02-25T15:28:38.229017Z",
     "iopub.status.idle": "2025-02-25T15:28:41.789281Z",
     "shell.execute_reply": "2025-02-25T15:28:41.788076Z"
    },
    "papermill": {
     "duration": 3.565928,
     "end_time": "2025-02-25T15:28:41.790871",
     "exception": false,
     "start_time": "2025-02-25T15:28:38.224943",
     "status": "completed"
    },
    "tags": []
   },
   "outputs": [
    {
     "name": "stdout",
     "output_type": "stream",
     "text": [
      "Libraries imported and default styles set.\n"
     ]
    }
   ],
   "source": [
    "import glob\n",
    "import os\n",
    "import time\n",
    "import numpy as np\n",
    "import pandas as pd\n",
    "import matplotlib.pyplot as plt\n",
    "import seaborn as sns\n",
    "import warnings\n",
    "from sklearn.neighbors import KNeighborsRegressor\n",
    "from sklearn.model_selection import train_test_split, GridSearchCV\n",
    "\n",
    "warnings.filterwarnings(\"ignore\")\n",
    "sns.set(style=\"whitegrid\", context=\"notebook\", font_scale=1.1)\n",
    "\n",
    "print(\"Libraries imported and default styles set.\")"
   ]
  },
  {
   "cell_type": "code",
   "execution_count": 2,
   "id": "9b2ecab3",
   "metadata": {
    "execution": {
     "iopub.execute_input": "2025-02-25T15:28:41.798439Z",
     "iopub.status.busy": "2025-02-25T15:28:41.797996Z",
     "iopub.status.idle": "2025-02-25T15:28:48.108581Z",
     "shell.execute_reply": "2025-02-25T15:28:48.107495Z"
    },
    "papermill": {
     "duration": 6.316363,
     "end_time": "2025-02-25T15:28:48.110542",
     "exception": false,
     "start_time": "2025-02-25T15:28:41.794179",
     "status": "completed"
    },
    "tags": []
   },
   "outputs": [
    {
     "name": "stdout",
     "output_type": "stream",
     "text": [
      "Loaded Conferences with shape (51, 2)\n",
      "Loaded SeedBenchmarkStage1 with shape (507108, 2)\n",
      "Loaded WNCAATourneyDetailedResults with shape (894, 34)\n",
      "Loaded WRegularSeasonCompactResults with shape (135948, 8)\n",
      "Loaded MNCAATourneySeedRoundSlots with shape (776, 5)\n",
      "Loaded MRegularSeasonDetailedResults with shape (117748, 34)\n",
      "Loaded MNCAATourneyCompactResults with shape (2518, 8)\n",
      "Loaded MGameCities with shape (85534, 6)\n",
      "Loaded WSecondaryTourneyCompactResults with shape (828, 9)\n",
      "Loaded WGameCities with shape (82329, 6)\n",
      "Loaded MSeasons with shape (41, 6)\n",
      "Loaded WNCAATourneySlots with shape (1713, 4)\n",
      "Loaded MSecondaryTourneyTeams with shape (1836, 3)\n",
      "Loaded SampleSubmissionStage2 with shape (131407, 2)\n",
      "Loaded Cities with shape (502, 3)\n",
      "Loaded MTeamSpellings with shape (1177, 2)\n",
      "Loaded MRegularSeasonCompactResults with shape (191796, 8)\n",
      "Loaded MMasseyOrdinals with shape (5489117, 5)\n",
      "Loaded MSecondaryTourneyCompactResults with shape (1809, 9)\n",
      "Loaded WTeams with shape (378, 2)\n",
      "Loaded WConferenceTourneyGames with shape (6113, 5)\n",
      "Loaded MNCAATourneySlots with shape (2519, 4)\n",
      "Loaded MNCAATourneySeeds with shape (2558, 3)\n",
      "Loaded WNCAATourneyCompactResults with shape (1650, 8)\n",
      "Loaded WSeasons with shape (28, 6)\n",
      "Loaded WNCAATourneySeeds with shape (1676, 3)\n",
      "Loaded MTeamCoaches with shape (13533, 5)\n",
      "Loaded MConferenceTourneyGames with shape (6491, 5)\n",
      "Loaded WRegularSeasonDetailedResults with shape (80626, 34)\n",
      "Loaded MNCAATourneyDetailedResults with shape (1382, 34)\n",
      "Loaded WTeamSpellings with shape (1170, 2)\n",
      "Loaded MTeamConferences with shape (13388, 3)\n",
      "Loaded MTeams with shape (380, 4)\n",
      "Loaded WTeamConferences with shape (9490, 3)\n",
      "Loaded SampleSubmissionStage1 with shape (507108, 2)\n",
      "Loaded WSecondaryTourneyTeams with shape (824, 3)\n",
      "\n",
      "All CSV files loaded automatically.\n"
     ]
    }
   ],
   "source": [
    "# Define the input folder path\n",
    "input_folder = r\"/kaggle/input/march-machine-learning-mania-2025\"\n",
    "\n",
    "# Find all CSV files in the input folder.\n",
    "csv_files = glob.glob(os.path.join(input_folder, \"*.csv\"))\n",
    "\n",
    "# Create a dictionary to store DataFrames.\n",
    "dataframes = {}\n",
    "\n",
    "# Loop through each CSV file, read it, and store it in the dictionary using the filename (without extension) as the key.\n",
    "for file in csv_files:\n",
    "    key = os.path.splitext(os.path.basename(file))[0]\n",
    "    try:\n",
    "        dataframes[key] = pd.read_csv(file, low_memory=False, encoding=\"latin-1\")\n",
    "        print(f\"Loaded {key} with shape {dataframes[key].shape}\")\n",
    "    except Exception as e:\n",
    "        print(f\"Error loading {file}: {e}\")\n",
    "\n",
    "print(\"\\nAll CSV files loaded automatically.\")"
   ]
  },
  {
   "cell_type": "code",
   "execution_count": 3,
   "id": "3f24081c",
   "metadata": {
    "execution": {
     "iopub.execute_input": "2025-02-25T15:28:48.119236Z",
     "iopub.status.busy": "2025-02-25T15:28:48.118880Z",
     "iopub.status.idle": "2025-02-25T15:28:48.557317Z",
     "shell.execute_reply": "2025-02-25T15:28:48.556157Z"
    },
    "papermill": {
     "duration": 0.444644,
     "end_time": "2025-02-25T15:28:48.559030",
     "exception": false,
     "start_time": "2025-02-25T15:28:48.114386",
     "status": "completed"
    },
    "tags": []
   },
   "outputs": [
    {
     "name": "stdout",
     "output_type": "stream",
     "text": [
      "Using Stage 2 sample submission.\n",
      "Sample submission file prepared:\n"
     ]
    },
    {
     "data": {
      "text/html": [
       "<div>\n",
       "<style scoped>\n",
       "    .dataframe tbody tr th:only-of-type {\n",
       "        vertical-align: middle;\n",
       "    }\n",
       "\n",
       "    .dataframe tbody tr th {\n",
       "        vertical-align: top;\n",
       "    }\n",
       "\n",
       "    .dataframe thead th {\n",
       "        text-align: right;\n",
       "    }\n",
       "</style>\n",
       "<table border=\"1\" class=\"dataframe\">\n",
       "  <thead>\n",
       "    <tr style=\"text-align: right;\">\n",
       "      <th></th>\n",
       "      <th>ID</th>\n",
       "      <th>Pred</th>\n",
       "      <th>Season</th>\n",
       "      <th>Team1</th>\n",
       "      <th>Team2</th>\n",
       "    </tr>\n",
       "  </thead>\n",
       "  <tbody>\n",
       "    <tr>\n",
       "      <th>0</th>\n",
       "      <td>2025_1101_1102</td>\n",
       "      <td>0.5</td>\n",
       "      <td>2025</td>\n",
       "      <td>1101</td>\n",
       "      <td>1102</td>\n",
       "    </tr>\n",
       "    <tr>\n",
       "      <th>1</th>\n",
       "      <td>2025_1101_1103</td>\n",
       "      <td>0.5</td>\n",
       "      <td>2025</td>\n",
       "      <td>1101</td>\n",
       "      <td>1103</td>\n",
       "    </tr>\n",
       "    <tr>\n",
       "      <th>2</th>\n",
       "      <td>2025_1101_1104</td>\n",
       "      <td>0.5</td>\n",
       "      <td>2025</td>\n",
       "      <td>1101</td>\n",
       "      <td>1104</td>\n",
       "    </tr>\n",
       "  </tbody>\n",
       "</table>\n",
       "</div>"
      ],
      "text/plain": [
       "               ID  Pred  Season  Team1  Team2\n",
       "0  2025_1101_1102   0.5    2025   1101   1102\n",
       "1  2025_1101_1103   0.5    2025   1101   1103\n",
       "2  2025_1101_1104   0.5    2025   1101   1104"
      ]
     },
     "metadata": {},
     "output_type": "display_data"
    }
   ],
   "source": [
    "# Use Stage 2 sample submission if available; otherwise, use Stage1.\n",
    "if 'SampleSubmissionStage2' in dataframes:\n",
    "    df_sub = dataframes['SampleSubmissionStage2'].copy()\n",
    "    print(\"Using Stage 2 sample submission.\")\n",
    "else:\n",
    "    df_sub = dataframes['SampleSubmissionStage1'].copy()\n",
    "    print(\"Stage 2 not found. Using Stage 1 sample submission.\")\n",
    "\n",
    "def parse_id(match_id):\n",
    "    season, t1, t2 = match_id.split('_')\n",
    "    return int(season), int(t1), int(t2)\n",
    "\n",
    "df_sub['Season'] = df_sub['ID'].apply(lambda x: parse_id(x)[0])\n",
    "df_sub['Team1'] = df_sub['ID'].apply(lambda x: parse_id(x)[1])\n",
    "df_sub['Team2'] = df_sub['ID'].apply(lambda x: parse_id(x)[2])\n",
    "print(\"Sample submission file prepared:\")\n",
    "display(df_sub.head(3))"
   ]
  },
  {
   "cell_type": "code",
   "execution_count": 4,
   "id": "205909de",
   "metadata": {
    "execution": {
     "iopub.execute_input": "2025-02-25T15:28:48.570100Z",
     "iopub.status.busy": "2025-02-25T15:28:48.569713Z",
     "iopub.status.idle": "2025-02-25T15:28:48.576807Z",
     "shell.execute_reply": "2025-02-25T15:28:48.575792Z"
    },
    "papermill": {
     "duration": 0.014134,
     "end_time": "2025-02-25T15:28:48.578591",
     "exception": false,
     "start_time": "2025-02-25T15:28:48.564457",
     "status": "completed"
    },
    "tags": []
   },
   "outputs": [],
   "source": [
    "def initialize_elo(team_ids, start_elo=1500):\n",
    "    return {tid: start_elo for tid in team_ids}\n",
    "\n",
    "def update_elo(elo_dict, teamA, teamB, scoreA, scoreB, k=20):\n",
    "    ra = elo_dict[teamA]\n",
    "    rb = elo_dict[teamB]\n",
    "    ea = 1.0 / (1 + 10 ** ((rb - ra) / 400))\n",
    "    # Actual result: 1 if teamA wins, 0 if teamB wins.\n",
    "    sa = 1 if scoreA > scoreB else 0\n",
    "    elo_dict[teamA] = ra + k * (sa - ea)\n",
    "    elo_dict[teamB] = rb + k * ((1 - sa) - (1 - ea))\n",
    "\n",
    "def compute_elo(df_games, teams_df):\n",
    "    df_sorted = df_games.sort_values(by=['Season','DayNum'])\n",
    "    team_ids = teams_df['TeamID'].unique()\n",
    "    elo_dict = initialize_elo(team_ids)\n",
    "    for idx, row in df_sorted.iterrows():\n",
    "        update_elo(elo_dict, row['WTeamID'], row['LTeamID'], row['WScore'], row['LScore'])\n",
    "    return elo_dict"
   ]
  },
  {
   "cell_type": "code",
   "execution_count": 5,
   "id": "b53e0200",
   "metadata": {
    "execution": {
     "iopub.execute_input": "2025-02-25T15:28:48.588171Z",
     "iopub.status.busy": "2025-02-25T15:28:48.587789Z",
     "iopub.status.idle": "2025-02-25T15:29:00.170126Z",
     "shell.execute_reply": "2025-02-25T15:29:00.169023Z"
    },
    "papermill": {
     "duration": 11.588988,
     "end_time": "2025-02-25T15:29:00.171941",
     "exception": false,
     "start_time": "2025-02-25T15:28:48.582953",
     "status": "completed"
    },
    "tags": []
   },
   "outputs": [
    {
     "name": "stdout",
     "output_type": "stream",
     "text": [
      "Elo ratings computed for men's and women's data.\n"
     ]
    }
   ],
   "source": [
    "# Load men's and women's detailed regular season results.\n",
    "df_MReg = dataframes['MRegularSeasonDetailedResults'].copy()\n",
    "df_WReg = dataframes['WRegularSeasonDetailedResults'].copy()\n",
    "\n",
    "# Get team lists.\n",
    "df_MTeams = dataframes['MTeams']\n",
    "df_WTeams = dataframes['WTeams']\n",
    "\n",
    "elo_m = compute_elo(df_MReg, df_MTeams)\n",
    "elo_w = compute_elo(df_WReg, df_WTeams)\n",
    "print(\"Elo ratings computed for men's and women's data.\")"
   ]
  },
  {
   "cell_type": "code",
   "execution_count": 6,
   "id": "22038c8c",
   "metadata": {
    "execution": {
     "iopub.execute_input": "2025-02-25T15:29:00.181578Z",
     "iopub.status.busy": "2025-02-25T15:29:00.181230Z",
     "iopub.status.idle": "2025-02-25T15:29:11.154952Z",
     "shell.execute_reply": "2025-02-25T15:29:11.153600Z"
    },
    "papermill": {
     "duration": 10.980529,
     "end_time": "2025-02-25T15:29:11.156747",
     "exception": false,
     "start_time": "2025-02-25T15:29:00.176218",
     "status": "completed"
    },
    "tags": []
   },
   "outputs": [
    {
     "name": "stdout",
     "output_type": "stream",
     "text": [
      "Training data prepared for men's and women's margin models.\n"
     ]
    }
   ],
   "source": [
    "def prepare_training_data(df, elo_dict):\n",
    "    elo_diffs = []\n",
    "    margins = []\n",
    "    for idx, row in df.iterrows():\n",
    "        diff = elo_dict.get(row['WTeamID'], 1500) - elo_dict.get(row['LTeamID'], 1500)\n",
    "        elo_diffs.append(diff)\n",
    "        margins.append(row['WScore'] - row['LScore'])\n",
    "    return pd.DataFrame({'EloDiff': elo_diffs, 'Margin': margins})\n",
    "\n",
    "train_m = prepare_training_data(df_MReg, elo_m)\n",
    "train_w = prepare_training_data(df_WReg, elo_w)\n",
    "print(\"Training data prepared for men's and women's margin models.\")"
   ]
  },
  {
   "cell_type": "code",
   "execution_count": 7,
   "id": "3dc16feb",
   "metadata": {
    "execution": {
     "iopub.execute_input": "2025-02-25T15:29:11.166536Z",
     "iopub.status.busy": "2025-02-25T15:29:11.166160Z",
     "iopub.status.idle": "2025-02-25T15:29:17.136480Z",
     "shell.execute_reply": "2025-02-25T15:29:17.135367Z"
    },
    "papermill": {
     "duration": 5.977521,
     "end_time": "2025-02-25T15:29:17.138657",
     "exception": false,
     "start_time": "2025-02-25T15:29:11.161136",
     "status": "completed"
    },
    "tags": []
   },
   "outputs": [
    {
     "name": "stdout",
     "output_type": "stream",
     "text": [
      "Best n_neighbors: {'n_neighbors': 60}\n",
      "Best n_neighbors: {'n_neighbors': 60}\n",
      "KNN margin models trained for men's and women's data.\n"
     ]
    }
   ],
   "source": [
    "def train_margin_model(df_train):\n",
    "    X = df_train[['EloDiff']].values\n",
    "    y = df_train['Margin'].values\n",
    "    knn = KNeighborsRegressor()\n",
    "    param_grid = {'n_neighbors': [5, 10, 20, 40, 50, 60]}\n",
    "    gscv = GridSearchCV(knn, param_grid, cv=3, scoring='neg_mean_squared_error')\n",
    "    gscv.fit(X, y)\n",
    "    print(\"Best n_neighbors:\", gscv.best_params_)\n",
    "    return gscv.best_estimator_\n",
    "\n",
    "knn_m = train_margin_model(train_m)\n",
    "knn_w = train_margin_model(train_w)\n",
    "print(\"KNN margin models trained for men's and women's data.\")"
   ]
  },
  {
   "cell_type": "code",
   "execution_count": 8,
   "id": "960d86c6",
   "metadata": {
    "execution": {
     "iopub.execute_input": "2025-02-25T15:29:17.149397Z",
     "iopub.status.busy": "2025-02-25T15:29:17.148959Z",
     "iopub.status.idle": "2025-02-25T15:29:17.156323Z",
     "shell.execute_reply": "2025-02-25T15:29:17.155183Z"
    },
    "papermill": {
     "duration": 0.014663,
     "end_time": "2025-02-25T15:29:17.158054",
     "exception": false,
     "start_time": "2025-02-25T15:29:17.143391",
     "status": "completed"
    },
    "tags": []
   },
   "outputs": [],
   "source": [
    "def margin_to_probability(margin, scale=10.0):\n",
    "    return 1.0 / (1 + 10 ** (-margin / scale))\n",
    "\n",
    "def predict_match(row, elo_m, elo_w, knn_m, knn_w):\n",
    "    # Determine whether the matchup is men's or women's based on team IDs.\n",
    "    if row['Team1'] < 2000 and row['Team2'] < 2000:\n",
    "        e1 = elo_m.get(row['Team1'], 1500)\n",
    "        e2 = elo_m.get(row['Team2'], 1500)\n",
    "        elo_diff = e1 - e2\n",
    "        margin_pred = knn_m.predict(np.array([[elo_diff]]))[0]\n",
    "        prob = margin_to_probability(margin_pred)\n",
    "    elif row['Team1'] >= 3000 and row['Team2'] >= 3000:\n",
    "        e1 = elo_w.get(row['Team1'], 1500)\n",
    "        e2 = elo_w.get(row['Team2'], 1500)\n",
    "        elo_diff = e1 - e2\n",
    "        margin_pred = knn_w.predict(np.array([[elo_diff]]))[0]\n",
    "        prob = margin_to_probability(margin_pred)\n",
    "    else:\n",
    "        prob = 0.5  # Default for unexpected cases.\n",
    "    return prob"
   ]
  },
  {
   "cell_type": "code",
   "execution_count": 9,
   "id": "1e17fcf1",
   "metadata": {
    "execution": {
     "iopub.execute_input": "2025-02-25T15:29:17.167985Z",
     "iopub.status.busy": "2025-02-25T15:29:17.167598Z",
     "iopub.status.idle": "2025-02-25T15:30:25.333843Z",
     "shell.execute_reply": "2025-02-25T15:30:25.332754Z"
    },
    "papermill": {
     "duration": 68.177227,
     "end_time": "2025-02-25T15:30:25.339622",
     "exception": false,
     "start_time": "2025-02-25T15:29:17.162395",
     "status": "completed"
    },
    "tags": []
   },
   "outputs": [
    {
     "name": "stdout",
     "output_type": "stream",
     "text": [
      "Predictions generated for all matchups.\n"
     ]
    },
    {
     "data": {
      "text/html": [
       "<div>\n",
       "<style scoped>\n",
       "    .dataframe tbody tr th:only-of-type {\n",
       "        vertical-align: middle;\n",
       "    }\n",
       "\n",
       "    .dataframe tbody tr th {\n",
       "        vertical-align: top;\n",
       "    }\n",
       "\n",
       "    .dataframe thead th {\n",
       "        text-align: right;\n",
       "    }\n",
       "</style>\n",
       "<table border=\"1\" class=\"dataframe\">\n",
       "  <thead>\n",
       "    <tr style=\"text-align: right;\">\n",
       "      <th></th>\n",
       "      <th>ID</th>\n",
       "      <th>Pred</th>\n",
       "      <th>Season</th>\n",
       "      <th>Team1</th>\n",
       "      <th>Team2</th>\n",
       "    </tr>\n",
       "  </thead>\n",
       "  <tbody>\n",
       "    <tr>\n",
       "      <th>0</th>\n",
       "      <td>2025_1101_1102</td>\n",
       "      <td>0.905541</td>\n",
       "      <td>2025</td>\n",
       "      <td>1101</td>\n",
       "      <td>1102</td>\n",
       "    </tr>\n",
       "    <tr>\n",
       "      <th>1</th>\n",
       "      <td>2025_1101_1103</td>\n",
       "      <td>0.879521</td>\n",
       "      <td>2025</td>\n",
       "      <td>1101</td>\n",
       "      <td>1103</td>\n",
       "    </tr>\n",
       "    <tr>\n",
       "      <th>2</th>\n",
       "      <td>2025_1101_1104</td>\n",
       "      <td>0.839434</td>\n",
       "      <td>2025</td>\n",
       "      <td>1101</td>\n",
       "      <td>1104</td>\n",
       "    </tr>\n",
       "  </tbody>\n",
       "</table>\n",
       "</div>"
      ],
      "text/plain": [
       "               ID      Pred  Season  Team1  Team2\n",
       "0  2025_1101_1102  0.905541    2025   1101   1102\n",
       "1  2025_1101_1103  0.879521    2025   1101   1103\n",
       "2  2025_1101_1104  0.839434    2025   1101   1104"
      ]
     },
     "metadata": {},
     "output_type": "display_data"
    }
   ],
   "source": [
    "# Generate predictions for all matchups.\n",
    "predictions = []\n",
    "for idx, row in df_sub.iterrows():\n",
    "    p = predict_match(row, elo_m, elo_w, knn_m, knn_w)\n",
    "    predictions.append(p)\n",
    "df_sub['Pred'] = predictions\n",
    "print(\"Predictions generated for all matchups.\")\n",
    "display(df_sub.head(3))"
   ]
  },
  {
   "cell_type": "code",
   "execution_count": 10,
   "id": "efcd85d3",
   "metadata": {
    "execution": {
     "iopub.execute_input": "2025-02-25T15:30:25.349767Z",
     "iopub.status.busy": "2025-02-25T15:30:25.349440Z",
     "iopub.status.idle": "2025-02-25T15:30:25.633867Z",
     "shell.execute_reply": "2025-02-25T15:30:25.632764Z"
    },
    "papermill": {
     "duration": 0.291445,
     "end_time": "2025-02-25T15:30:25.635596",
     "exception": false,
     "start_time": "2025-02-25T15:30:25.344151",
     "status": "completed"
    },
    "tags": []
   },
   "outputs": [
    {
     "name": "stdout",
     "output_type": "stream",
     "text": [
      "Submission file 'submission.csv' created successfully.\n"
     ]
    }
   ],
   "source": [
    "submission_filename = \"submission.csv\"\n",
    "df_sub[['ID', 'Pred']].to_csv(submission_filename, index=False)\n",
    "print(f\"Submission file '{submission_filename}' created successfully.\")"
   ]
  },
  {
   "cell_type": "code",
   "execution_count": null,
   "id": "b0c1dd73",
   "metadata": {
    "papermill": {
     "duration": 0.004438,
     "end_time": "2025-02-25T15:30:25.644787",
     "exception": false,
     "start_time": "2025-02-25T15:30:25.640349",
     "status": "completed"
    },
    "tags": []
   },
   "outputs": [],
   "source": []
  }
 ],
 "metadata": {
  "kaggle": {
   "accelerator": "none",
   "dataSources": [
    {
     "databundleVersionId": 11018643,
     "sourceId": 91497,
     "sourceType": "competition"
    }
   ],
   "dockerImageVersionId": 30886,
   "isGpuEnabled": false,
   "isInternetEnabled": true,
   "language": "python",
   "sourceType": "notebook"
  },
  "kernelspec": {
   "display_name": "Python 3",
   "language": "python",
   "name": "python3"
  },
  "language_info": {
   "codemirror_mode": {
    "name": "ipython",
    "version": 3
   },
   "file_extension": ".py",
   "mimetype": "text/x-python",
   "name": "python",
   "nbconvert_exporter": "python",
   "pygments_lexer": "ipython3",
   "version": "3.10.12"
  },
  "papermill": {
   "default_parameters": {},
   "duration": 111.194339,
   "end_time": "2025-02-25T15:30:26.471140",
   "environment_variables": {},
   "exception": null,
   "input_path": "__notebook__.ipynb",
   "output_path": "__notebook__.ipynb",
   "parameters": {},
   "start_time": "2025-02-25T15:28:35.276801",
   "version": "2.6.0"
  }
 },
 "nbformat": 4,
 "nbformat_minor": 5
}
