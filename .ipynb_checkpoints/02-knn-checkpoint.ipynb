{
 "cells": [
  {
   "cell_type": "markdown",
   "id": "be27ed7c",
   "metadata": {
    "papermill": {
     "duration": 0.002726,
     "end_time": "2025-02-16T18:24:20.840530",
     "exception": false,
     "start_time": "2025-02-16T18:24:20.837804",
     "status": "completed"
    },
    "tags": []
   },
   "source": [
    "# **Discussion & Key Takeaways**\n",
    "\n",
    "### **Introduction**\n",
    "In this submission notebook, I integrated extensive EDA insights with approaches from previous top solutions. I computed Elo ratings from historical detailed game results and built a two‐stage model where a KNN regressor predicts the game margin from the Elo difference. This margin is then transformed via a logistic function to yield a win probability. Separate models for men and women are used—since team ID ranges differ—to accurately reflect scoring patterns and dynamics.\n",
    "\n",
    "### **Findings from the EDA**\n",
    "- **Data Completeness:** Our exploratory analysis confirmed that the dataset is comprehensive with minimal missing values.\n",
    "- **Score Distributions:** Histograms and boxplots indicated that men’s winning scores are generally higher than women’s, and margins (score differences) are consistent with typical game dynamics.\n",
    "- **Correlations:** Strong correlations were found between scoring statistics (e.g., field goals made, shooting attempts) and game outcomes, supporting the use of these features for margin prediction.\n",
    "- **Season Trends:** Time-series plots demonstrated stable trends over the years with some variation that could be linked to rule changes or evolving game pace.\n",
    "- **Geographic Spread:** USA map visualizations showed games distributed widely across states, emphasizing the broad geographic appeal of NCAA basketball.\n",
    "\n",
    "### **Approach & Model Strategy**\n",
    "Based on previous winning solutions and our EDA:\n",
    "- **Elo Ratings:** We used a simple Elo system to compute team strengths over time.\n",
    "- **Margin Modeling:** A KNN regressor was trained to predict the margin (difference between winning and losing scores) using the Elo difference as a feature.\n",
    "- **Probability Conversion:** A logistic function converts the predicted margin to a win probability.\n",
    "- **Separate Models:** Men’s and women’s games are handled separately (based on team ID ranges), reflecting differences in scoring patterns."
   ]
  },
  {
   "cell_type": "code",
   "execution_count": 1,
   "id": "61e5f69f",
   "metadata": {
    "_cell_guid": "b1076dfc-b9ad-4769-8c92-a6c4dae69d19",
    "_uuid": "8f2839f25d086af736a60e9eeb907d3b93b6e0e5",
    "execution": {
     "iopub.execute_input": "2025-02-16T18:24:20.847004Z",
     "iopub.status.busy": "2025-02-16T18:24:20.846689Z",
     "iopub.status.idle": "2025-02-16T18:24:23.760956Z",
     "shell.execute_reply": "2025-02-16T18:24:23.759796Z"
    },
    "papermill": {
     "duration": 2.919247,
     "end_time": "2025-02-16T18:24:23.762475",
     "exception": false,
     "start_time": "2025-02-16T18:24:20.843228",
     "status": "completed"
    },
    "tags": []
   },
   "outputs": [
    {
     "name": "stdout",
     "output_type": "stream",
     "text": [
      "Libraries imported and default styles set.\n"
     ]
    }
   ],
   "source": [
    "# Import Libraries & Setup\n",
    "import numpy as np\n",
    "import pandas as pd\n",
    "import glob, os\n",
    "import matplotlib.pyplot as plt\n",
    "import seaborn as sns\n",
    "from sklearn.neighbors import KNeighborsRegressor\n",
    "from sklearn.model_selection import GridSearchCV\n",
    "import warnings\n",
    "warnings.filterwarnings(\"ignore\")\n",
    "sns.set(style=\"whitegrid\", context=\"notebook\", font_scale=1.1)\n",
    "print(\"Libraries imported and default styles set.\")"
   ]
  },
  {
   "cell_type": "code",
   "execution_count": 2,
   "id": "6b1331d7",
   "metadata": {
    "execution": {
     "iopub.execute_input": "2025-02-16T18:24:23.768373Z",
     "iopub.status.busy": "2025-02-16T18:24:23.767938Z",
     "iopub.status.idle": "2025-02-16T18:24:28.027019Z",
     "shell.execute_reply": "2025-02-16T18:24:28.025974Z"
    },
    "papermill": {
     "duration": 4.263726,
     "end_time": "2025-02-16T18:24:28.028758",
     "exception": false,
     "start_time": "2025-02-16T18:24:23.765032",
     "status": "completed"
    },
    "tags": []
   },
   "outputs": [
    {
     "name": "stdout",
     "output_type": "stream",
     "text": [
      "Loaded Conferences with shape (51, 2)\n",
      "Loaded SeedBenchmarkStage1 with shape (507108, 2)\n",
      "Loaded WNCAATourneyDetailedResults with shape (894, 34)\n",
      "Loaded WRegularSeasonCompactResults with shape (134961, 8)\n",
      "Loaded MNCAATourneySeedRoundSlots with shape (776, 5)\n",
      "Loaded MRegularSeasonDetailedResults with shape (116723, 34)\n",
      "Loaded MNCAATourneyCompactResults with shape (2518, 8)\n",
      "Loaded MGameCities with shape (84509, 6)\n",
      "Loaded WSecondaryTourneyCompactResults with shape (828, 9)\n",
      "Loaded WGameCities with shape (81342, 6)\n",
      "Loaded MSeasons with shape (41, 6)\n",
      "Loaded WNCAATourneySlots with shape (1713, 4)\n",
      "Loaded MSecondaryTourneyTeams with shape (1836, 3)\n",
      "Loaded Cities with shape (502, 3)\n",
      "Loaded MTeamSpellings with shape (1177, 2)\n",
      "Loaded MRegularSeasonCompactResults with shape (190771, 8)\n",
      "Loaded MMasseyOrdinals with shape (5435396, 5)\n",
      "Loaded MSecondaryTourneyCompactResults with shape (1809, 9)\n",
      "Loaded WTeams with shape (378, 2)\n",
      "Loaded WConferenceTourneyGames with shape (6113, 5)\n",
      "Loaded MNCAATourneySlots with shape (2519, 4)\n",
      "Loaded MNCAATourneySeeds with shape (2558, 3)\n",
      "Loaded WNCAATourneyCompactResults with shape (1650, 8)\n",
      "Loaded WSeasons with shape (28, 6)\n",
      "Loaded WNCAATourneySeeds with shape (1676, 3)\n",
      "Loaded MTeamCoaches with shape (13533, 5)\n",
      "Loaded MConferenceTourneyGames with shape (6491, 5)\n",
      "Loaded WRegularSeasonDetailedResults with shape (79639, 34)\n",
      "Loaded MNCAATourneyDetailedResults with shape (1382, 34)\n",
      "Loaded WTeamSpellings with shape (1170, 2)\n",
      "Loaded MTeamConferences with shape (13388, 3)\n",
      "Loaded MTeams with shape (380, 4)\n",
      "Loaded WTeamConferences with shape (9490, 3)\n",
      "Loaded SampleSubmissionStage1 with shape (507108, 2)\n",
      "Loaded WSecondaryTourneyTeams with shape (824, 3)\n",
      "\n",
      "All CSV files loaded automatically.\n"
     ]
    }
   ],
   "source": [
    "input_folder = r\"/kaggle/input/march-machine-learning-mania-2025\"\n",
    "csv_files = glob.glob(os.path.join(input_folder, \"*.csv\"))\n",
    "\n",
    "dataframes = {}\n",
    "for file in csv_files:\n",
    "    key = os.path.splitext(os.path.basename(file))[0]\n",
    "    try:\n",
    "        # Using 'latin-1' encoding to avoid Unicode decode errors.\n",
    "        dataframes[key] = pd.read_csv(file, low_memory=False, encoding=\"latin-1\")\n",
    "        print(f\"Loaded {key} with shape {dataframes[key].shape}\")\n",
    "    except Exception as e:\n",
    "        print(f\"Error loading {file}: {e}\")\n",
    "\n",
    "print(\"\\nAll CSV files loaded automatically.\")"
   ]
  },
  {
   "cell_type": "code",
   "execution_count": 3,
   "id": "e303b6f3",
   "metadata": {
    "execution": {
     "iopub.execute_input": "2025-02-16T18:24:28.035039Z",
     "iopub.status.busy": "2025-02-16T18:24:28.034745Z",
     "iopub.status.idle": "2025-02-16T18:24:29.109679Z",
     "shell.execute_reply": "2025-02-16T18:24:29.108587Z"
    },
    "papermill": {
     "duration": 1.079865,
     "end_time": "2025-02-16T18:24:29.111372",
     "exception": false,
     "start_time": "2025-02-16T18:24:28.031507",
     "status": "completed"
    },
    "tags": []
   },
   "outputs": [
    {
     "name": "stdout",
     "output_type": "stream",
     "text": [
      "Sample submission file prepared:\n",
      "               ID  Pred  Season  Team1  Team2\n",
      "0  2021_1101_1102   0.5    2021   1101   1102\n",
      "1  2021_1101_1103   0.5    2021   1101   1103\n",
      "2  2021_1101_1104   0.5    2021   1101   1104\n",
      "3  2021_1101_1105   0.5    2021   1101   1105\n",
      "4  2021_1101_1106   0.5    2021   1101   1106\n"
     ]
    }
   ],
   "source": [
    "df_sub = dataframes['SampleSubmissionStage1'].copy()\n",
    "\n",
    "def parse_id(match_id):\n",
    "    season, t1, t2 = match_id.split('_')\n",
    "    return int(season), int(t1), int(t2)\n",
    "\n",
    "df_sub['Season'] = df_sub['ID'].apply(lambda x: parse_id(x)[0])\n",
    "df_sub['Team1'] = df_sub['ID'].apply(lambda x: parse_id(x)[1])\n",
    "df_sub['Team2'] = df_sub['ID'].apply(lambda x: parse_id(x)[2])\n",
    "print(\"Sample submission file prepared:\")\n",
    "print(df_sub.head())"
   ]
  },
  {
   "cell_type": "code",
   "execution_count": 4,
   "id": "1d3fef62",
   "metadata": {
    "execution": {
     "iopub.execute_input": "2025-02-16T18:24:29.118442Z",
     "iopub.status.busy": "2025-02-16T18:24:29.118121Z",
     "iopub.status.idle": "2025-02-16T18:24:29.124167Z",
     "shell.execute_reply": "2025-02-16T18:24:29.122864Z"
    },
    "papermill": {
     "duration": 0.01151,
     "end_time": "2025-02-16T18:24:29.125701",
     "exception": false,
     "start_time": "2025-02-16T18:24:29.114191",
     "status": "completed"
    },
    "tags": []
   },
   "outputs": [],
   "source": [
    "def initialize_elo(team_ids, start_elo=1500):\n",
    "    return {tid: start_elo for tid in team_ids}\n",
    "\n",
    "def update_elo(elo_dict, teamA, teamB, scoreA, scoreB, k=20):\n",
    "    ra = elo_dict[teamA]\n",
    "    rb = elo_dict[teamB]\n",
    "    ea = 1.0 / (1 + 10 ** ((rb - ra) / 400))\n",
    "    # Actual result: 1 if teamA wins, 0 otherwise.\n",
    "    sa = 1 if scoreA > scoreB else 0\n",
    "    sb = 1 - sa\n",
    "    elo_dict[teamA] = ra + k * (sa - ea)\n",
    "    elo_dict[teamB] = rb + k * (sb - (1 - ea))\n",
    "\n",
    "def compute_elo(df_games, teams_df):\n",
    "    df_sorted = df_games.sort_values(by=['Season','DayNum'])\n",
    "    team_ids = teams_df['TeamID'].unique()\n",
    "    elo_dict = initialize_elo(team_ids)\n",
    "    for idx, row in df_sorted.iterrows():\n",
    "        update_elo(elo_dict, row['WTeamID'], row['LTeamID'], row['WScore'], row['LScore'])\n",
    "    return elo_dict"
   ]
  },
  {
   "cell_type": "code",
   "execution_count": 5,
   "id": "518820ff",
   "metadata": {
    "execution": {
     "iopub.execute_input": "2025-02-16T18:24:29.132490Z",
     "iopub.status.busy": "2025-02-16T18:24:29.132062Z",
     "iopub.status.idle": "2025-02-16T18:24:37.049114Z",
     "shell.execute_reply": "2025-02-16T18:24:37.048049Z"
    },
    "papermill": {
     "duration": 7.921866,
     "end_time": "2025-02-16T18:24:37.050464",
     "exception": false,
     "start_time": "2025-02-16T18:24:29.128598",
     "status": "completed"
    },
    "tags": []
   },
   "outputs": [
    {
     "name": "stdout",
     "output_type": "stream",
     "text": [
      "Elo ratings computed for men's and women's data.\n"
     ]
    }
   ],
   "source": [
    "df_MReg = dataframes['MRegularSeasonDetailedResults'].copy()\n",
    "df_WReg = dataframes['WRegularSeasonDetailedResults'].copy()\n",
    "df_MTeams = dataframes['MTeams']\n",
    "df_WTeams = dataframes['WTeams']\n",
    "\n",
    "elo_m = compute_elo(df_MReg, df_MTeams)\n",
    "elo_w = compute_elo(df_WReg, df_WTeams)\n",
    "print(\"Elo ratings computed for men's and women's data.\")"
   ]
  },
  {
   "cell_type": "code",
   "execution_count": 6,
   "id": "fde390f7",
   "metadata": {
    "execution": {
     "iopub.execute_input": "2025-02-16T18:24:37.057003Z",
     "iopub.status.busy": "2025-02-16T18:24:37.056738Z",
     "iopub.status.idle": "2025-02-16T18:24:44.824999Z",
     "shell.execute_reply": "2025-02-16T18:24:44.824266Z"
    },
    "papermill": {
     "duration": 7.772801,
     "end_time": "2025-02-16T18:24:44.826287",
     "exception": false,
     "start_time": "2025-02-16T18:24:37.053486",
     "status": "completed"
    },
    "tags": []
   },
   "outputs": [
    {
     "name": "stdout",
     "output_type": "stream",
     "text": [
      "Training data prepared for men's and women's margin models.\n"
     ]
    }
   ],
   "source": [
    "def prepare_training_data(df, elo_dict):\n",
    "    margins = []\n",
    "    elo_diffs = []\n",
    "    for idx, row in df.iterrows():\n",
    "        margin = row['WScore'] - row['LScore']\n",
    "        elo_diff = elo_dict.get(row['WTeamID'], 1500) - elo_dict.get(row['LTeamID'], 1500)\n",
    "        elo_diffs.append(elo_diff)\n",
    "        margins.append(margin)\n",
    "    return pd.DataFrame({'EloDiff': elo_diffs, 'Margin': margins})\n",
    "\n",
    "train_m = prepare_training_data(df_MReg, elo_m)\n",
    "train_w = prepare_training_data(df_WReg, elo_w)\n",
    "print(\"Training data prepared for men's and women's margin models.\")"
   ]
  },
  {
   "cell_type": "code",
   "execution_count": 7,
   "id": "8205a0f2",
   "metadata": {
    "execution": {
     "iopub.execute_input": "2025-02-16T18:24:44.835499Z",
     "iopub.status.busy": "2025-02-16T18:24:44.835164Z",
     "iopub.status.idle": "2025-02-16T18:24:47.153220Z",
     "shell.execute_reply": "2025-02-16T18:24:47.152235Z"
    },
    "papermill": {
     "duration": 2.324377,
     "end_time": "2025-02-16T18:24:47.154808",
     "exception": false,
     "start_time": "2025-02-16T18:24:44.830431",
     "status": "completed"
    },
    "tags": []
   },
   "outputs": [
    {
     "name": "stdout",
     "output_type": "stream",
     "text": [
      "Best n_neighbors: {'n_neighbors': 40}\n",
      "Best n_neighbors: {'n_neighbors': 40}\n",
      "KNN margin models trained.\n"
     ]
    }
   ],
   "source": [
    "def train_margin_model(df_train):\n",
    "    X = df_train[['EloDiff']].values\n",
    "    y = df_train['Margin'].values\n",
    "    knn = KNeighborsRegressor()\n",
    "    param_grid = {'n_neighbors': [5, 10, 20, 40]}\n",
    "    gscv = GridSearchCV(knn, param_grid, cv=3, scoring='neg_mean_squared_error')\n",
    "    gscv.fit(X, y)\n",
    "    print(\"Best n_neighbors:\", gscv.best_params_)\n",
    "    return gscv.best_estimator_\n",
    "\n",
    "knn_m = train_margin_model(train_m)\n",
    "knn_w = train_margin_model(train_w)\n",
    "print(\"KNN margin models trained.\")"
   ]
  },
  {
   "cell_type": "code",
   "execution_count": 8,
   "id": "68715180",
   "metadata": {
    "execution": {
     "iopub.execute_input": "2025-02-16T18:24:47.161880Z",
     "iopub.status.busy": "2025-02-16T18:24:47.161590Z",
     "iopub.status.idle": "2025-02-16T18:27:31.130012Z",
     "shell.execute_reply": "2025-02-16T18:27:31.128982Z"
    },
    "papermill": {
     "duration": 163.975982,
     "end_time": "2025-02-16T18:27:31.134094",
     "exception": false,
     "start_time": "2025-02-16T18:24:47.158112",
     "status": "completed"
    },
    "tags": []
   },
   "outputs": [
    {
     "name": "stdout",
     "output_type": "stream",
     "text": [
      "Predictions generated for all matchups.\n",
      "               ID      Pred  Season  Team1  Team2\n",
      "0  2021_1101_1102  0.938025    2021   1101   1102\n",
      "1  2021_1101_1103  0.896477    2021   1101   1103\n",
      "2  2021_1101_1104  0.803819    2021   1101   1104\n",
      "3  2021_1101_1105  0.977223    2021   1101   1105\n",
      "4  2021_1101_1106  0.957005    2021   1101   1106\n"
     ]
    }
   ],
   "source": [
    "def margin_to_probability(margin, scale=10.0):\n",
    "    return 1.0 / (1 + 10 ** (-margin / scale))\n",
    "\n",
    "def predict_match(season, team1, team2, elo_m, elo_w, knn_m, knn_w):\n",
    "    # Determine if both teams belong to men's or women's brackets.\n",
    "    if team1 < 2000 and team2 < 2000:\n",
    "        e1 = elo_m.get(team1, 1500)\n",
    "        e2 = elo_m.get(team2, 1500)\n",
    "        elo_diff = e1 - e2\n",
    "        margin_pred = knn_m.predict([[elo_diff]])[0]\n",
    "        prob = margin_to_probability(margin_pred)\n",
    "    elif team1 >= 3000 and team2 >= 3000:\n",
    "        e1 = elo_w.get(team1, 1500)\n",
    "        e2 = elo_w.get(team2, 1500)\n",
    "        elo_diff = e1 - e2\n",
    "        margin_pred = knn_w.predict([[elo_diff]])[0]\n",
    "        prob = margin_to_probability(margin_pred)\n",
    "    else:\n",
    "        # In case of an unexpected matchup, default to 0.5\n",
    "        prob = 0.5\n",
    "    return prob\n",
    "\n",
    "predictions = []\n",
    "for idx, row in df_sub.iterrows():\n",
    "    season = row['Season']\n",
    "    team1 = row['Team1']\n",
    "    team2 = row['Team2']\n",
    "    prob = predict_match(season, team1, team2, elo_m, elo_w, knn_m, knn_w)\n",
    "    predictions.append(prob)\n",
    "\n",
    "df_sub['Pred'] = predictions\n",
    "print(\"Predictions generated for all matchups.\")\n",
    "print(df_sub.head())"
   ]
  },
  {
   "cell_type": "code",
   "execution_count": 9,
   "id": "962620e8",
   "metadata": {
    "execution": {
     "iopub.execute_input": "2025-02-16T18:27:31.141507Z",
     "iopub.status.busy": "2025-02-16T18:27:31.141184Z",
     "iopub.status.idle": "2025-02-16T18:27:31.759148Z",
     "shell.execute_reply": "2025-02-16T18:27:31.758068Z"
    },
    "papermill": {
     "duration": 0.62324,
     "end_time": "2025-02-16T18:27:31.760459",
     "exception": false,
     "start_time": "2025-02-16T18:27:31.137219",
     "status": "completed"
    },
    "tags": []
   },
   "outputs": [
    {
     "name": "stdout",
     "output_type": "stream",
     "text": [
      "Submission file 'submission.csv' created successfully.\n"
     ]
    }
   ],
   "source": [
    "df_sub[['ID','Pred']].to_csv(\"submission.csv\", index=False)\n",
    "print(\"Submission file 'submission.csv' created successfully.\")"
   ]
  },
  {
   "cell_type": "code",
   "execution_count": null,
   "id": "19050fe6",
   "metadata": {
    "papermill": {
     "duration": 0.002386,
     "end_time": "2025-02-16T18:27:31.765701",
     "exception": false,
     "start_time": "2025-02-16T18:27:31.763315",
     "status": "completed"
    },
    "tags": []
   },
   "outputs": [],
   "source": []
  }
 ],
 "metadata": {
  "kaggle": {
   "accelerator": "none",
   "dataSources": [
    {
     "databundleVersionId": 11018643,
     "sourceId": 91497,
     "sourceType": "competition"
    }
   ],
   "dockerImageVersionId": 30886,
   "isGpuEnabled": false,
   "isInternetEnabled": true,
   "language": "python",
   "sourceType": "notebook"
  },
  "kernelspec": {
   "display_name": "Python 3",
   "language": "python",
   "name": "python3"
  },
  "language_info": {
   "codemirror_mode": {
    "name": "ipython",
    "version": 3
   },
   "file_extension": ".py",
   "mimetype": "text/x-python",
   "name": "python",
   "nbconvert_exporter": "python",
   "pygments_lexer": "ipython3",
   "version": "3.10.12"
  },
  "papermill": {
   "default_parameters": {},
   "duration": 193.824453,
   "end_time": "2025-02-16T18:27:32.487412",
   "environment_variables": {},
   "exception": null,
   "input_path": "__notebook__.ipynb",
   "output_path": "__notebook__.ipynb",
   "parameters": {},
   "start_time": "2025-02-16T18:24:18.662959",
   "version": "2.6.0"
  }
 },
 "nbformat": 4,
 "nbformat_minor": 5
}
