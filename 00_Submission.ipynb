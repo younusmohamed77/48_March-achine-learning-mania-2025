{
 "cells": [
  {
   "cell_type": "code",
   "execution_count": 2,
   "id": "fb8790d7-7c6a-426f-a161-363128fba4be",
   "metadata": {},
   "outputs": [
    {
     "name": "stdout",
     "output_type": "stream",
     "text": [
      "Total files found: 100\n",
      "Submitting 1/100: C:\\Users\\Hi\\My Works\\My Py Scripts\\Git Repos\\48_March-achine-learning-mania-2025\\ensemble_submissions - 19-02-2025\\submission_1.csv\n",
      "Submitting 2/100: C:\\Users\\Hi\\My Works\\My Py Scripts\\Git Repos\\48_March-achine-learning-mania-2025\\ensemble_submissions - 19-02-2025\\submission_gpu_10.csv\n",
      "Submitting 3/100: C:\\Users\\Hi\\My Works\\My Py Scripts\\Git Repos\\48_March-achine-learning-mania-2025\\ensemble_submissions - 19-02-2025\\submission_gpu_100.csv\n",
      "Submitting 4/100: C:\\Users\\Hi\\My Works\\My Py Scripts\\Git Repos\\48_March-achine-learning-mania-2025\\ensemble_submissions - 19-02-2025\\submission_gpu_11.csv\n",
      "Submitting 5/100: C:\\Users\\Hi\\My Works\\My Py Scripts\\Git Repos\\48_March-achine-learning-mania-2025\\ensemble_submissions - 19-02-2025\\submission_gpu_12.csv\n",
      "Submitting 6/100: C:\\Users\\Hi\\My Works\\My Py Scripts\\Git Repos\\48_March-achine-learning-mania-2025\\ensemble_submissions - 19-02-2025\\submission_gpu_13.csv\n",
      "Submitting 7/100: C:\\Users\\Hi\\My Works\\My Py Scripts\\Git Repos\\48_March-achine-learning-mania-2025\\ensemble_submissions - 19-02-2025\\submission_gpu_14.csv\n",
      "Submitting 8/100: C:\\Users\\Hi\\My Works\\My Py Scripts\\Git Repos\\48_March-achine-learning-mania-2025\\ensemble_submissions - 19-02-2025\\submission_gpu_15.csv\n",
      "Submitting 9/100: C:\\Users\\Hi\\My Works\\My Py Scripts\\Git Repos\\48_March-achine-learning-mania-2025\\ensemble_submissions - 19-02-2025\\submission_gpu_16.csv\n",
      "Submitting 10/100: C:\\Users\\Hi\\My Works\\My Py Scripts\\Git Repos\\48_March-achine-learning-mania-2025\\ensemble_submissions - 19-02-2025\\submission_gpu_17.csv\n",
      "Submitting 11/100: C:\\Users\\Hi\\My Works\\My Py Scripts\\Git Repos\\48_March-achine-learning-mania-2025\\ensemble_submissions - 19-02-2025\\submission_gpu_18.csv\n",
      "Submitting 12/100: C:\\Users\\Hi\\My Works\\My Py Scripts\\Git Repos\\48_March-achine-learning-mania-2025\\ensemble_submissions - 19-02-2025\\submission_gpu_19.csv\n",
      "Submitting 13/100: C:\\Users\\Hi\\My Works\\My Py Scripts\\Git Repos\\48_March-achine-learning-mania-2025\\ensemble_submissions - 19-02-2025\\submission_gpu_2.csv\n",
      "Submitting 14/100: C:\\Users\\Hi\\My Works\\My Py Scripts\\Git Repos\\48_March-achine-learning-mania-2025\\ensemble_submissions - 19-02-2025\\submission_gpu_20.csv\n",
      "Submitting 15/100: C:\\Users\\Hi\\My Works\\My Py Scripts\\Git Repos\\48_March-achine-learning-mania-2025\\ensemble_submissions - 19-02-2025\\submission_gpu_21.csv\n"
     ]
    },
    {
     "ename": "KeyboardInterrupt",
     "evalue": "",
     "output_type": "error",
     "traceback": [
      "\u001b[1;31m---------------------------------------------------------------------------\u001b[0m",
      "\u001b[1;31mKeyboardInterrupt\u001b[0m                         Traceback (most recent call last)",
      "Cell \u001b[1;32mIn[2], line 22\u001b[0m\n\u001b[0;32m     19\u001b[0m \u001b[38;5;28mprint\u001b[39m(\u001b[38;5;124mf\u001b[39m\u001b[38;5;124m\"\u001b[39m\u001b[38;5;124mSubmitting \u001b[39m\u001b[38;5;132;01m{\u001b[39;00mi\u001b[38;5;241m+\u001b[39m\u001b[38;5;241m1\u001b[39m\u001b[38;5;132;01m}\u001b[39;00m\u001b[38;5;124m/\u001b[39m\u001b[38;5;132;01m{\u001b[39;00mtotal_files\u001b[38;5;132;01m}\u001b[39;00m\u001b[38;5;124m: \u001b[39m\u001b[38;5;132;01m{\u001b[39;00mfile_path\u001b[38;5;132;01m}\u001b[39;00m\u001b[38;5;124m\"\u001b[39m)\n\u001b[0;32m     21\u001b[0m \u001b[38;5;66;03m# Run Kaggle API command for submission\u001b[39;00m\n\u001b[1;32m---> 22\u001b[0m \u001b[43mos\u001b[49m\u001b[38;5;241;43m.\u001b[39;49m\u001b[43msystem\u001b[49m\u001b[43m(\u001b[49m\u001b[38;5;124;43mf\u001b[39;49m\u001b[38;5;124;43m'\u001b[39;49m\u001b[38;5;124;43mkaggle competitions submit -c \u001b[39;49m\u001b[38;5;132;43;01m{\u001b[39;49;00m\u001b[43mCOMPETITION_NAME\u001b[49m\u001b[38;5;132;43;01m}\u001b[39;49;00m\u001b[38;5;124;43m -f \u001b[39;49m\u001b[38;5;124;43m\"\u001b[39;49m\u001b[38;5;132;43;01m{\u001b[39;49;00m\u001b[43mfile_path\u001b[49m\u001b[38;5;132;43;01m}\u001b[39;49;00m\u001b[38;5;124;43m\"\u001b[39;49m\u001b[38;5;124;43m -m \u001b[39;49m\u001b[38;5;124;43m\"\u001b[39;49m\u001b[38;5;124;43mAuto-submitting \u001b[39;49m\u001b[38;5;132;43;01m{\u001b[39;49;00m\u001b[43mfile\u001b[49m\u001b[38;5;132;43;01m}\u001b[39;49;00m\u001b[38;5;124;43m\"\u001b[39;49m\u001b[38;5;124;43m'\u001b[39;49m\u001b[43m)\u001b[49m\n\u001b[0;32m     24\u001b[0m \u001b[38;5;66;03m# Respect Kaggle submission limits (usually 5 per day)\u001b[39;00m\n\u001b[0;32m     25\u001b[0m \u001b[38;5;28;01mif\u001b[39;00m (i \u001b[38;5;241m+\u001b[39m \u001b[38;5;241m1\u001b[39m) \u001b[38;5;241m%\u001b[39m \u001b[38;5;241m100\u001b[39m \u001b[38;5;241m==\u001b[39m \u001b[38;5;241m0\u001b[39m:\n",
      "\u001b[1;31mKeyboardInterrupt\u001b[0m: "
     ]
    }
   ],
   "source": [
    "import os\n",
    "import time\n",
    "\n",
    "# Kaggle competition name\n",
    "COMPETITION_NAME = \"march-machine-learning-mania-2025\"\n",
    "\n",
    "# Path to your submissions folder\n",
    "FOLDER_PATH = r\"C:\\Users\\Hi\\My Works\\My Py Scripts\\Git Repos\\48_March-achine-learning-mania-2025\\ensemble_submissions - 19-02-2025\"  \n",
    "\n",
    "daily_limit = 100\n",
    "\n",
    "# Get list of files in the folder\n",
    "files = sorted(os.listdir(FOLDER_PATH))  # Ensure sorted order for consistency\n",
    "total_files = len(files)\n",
    "\n",
    "print(f\"Total files found: {total_files}\")\n",
    "\n",
    "for i, file in enumerate(files):\n",
    "    file_path = os.path.join(FOLDER_PATH, file)\n",
    "\n",
    "    print(f\"Submitting {i+1}/{total_files}: {file_path}\")\n",
    "\n",
    "    # Run Kaggle API command for submission\n",
    "    os.system(f'kaggle competitions submit -c {COMPETITION_NAME} -f \"{file_path}\" -m \"Auto-submitting {file}\"')\n",
    "\n",
    "    # Respect Kaggle submission limits (usually 5 per day)\n",
    "    if (i + 1) % daily_limit == 0:\n",
    "        print(\"Reached daily submission limit. Exiting..\")\n",
    "        break\n",
    "\n",
    "    time.sleep(10)  # Small delay to avoid rate limiting\n",
    "\n",
    "print(\"Submission process completed!\")"
   ]
  },
  {
   "cell_type": "code",
   "execution_count": null,
   "id": "b3d974ce-503d-4c09-bf62-fc15b3f75412",
   "metadata": {},
   "outputs": [],
   "source": []
  },
  {
   "cell_type": "code",
   "execution_count": null,
   "id": "9a7aaac1-4823-46d2-b589-9f7b443566fc",
   "metadata": {},
   "outputs": [],
   "source": []
  }
 ],
 "metadata": {
  "kernelspec": {
   "display_name": "Python 3 (ipykernel)",
   "language": "python",
   "name": "python3"
  },
  "language_info": {
   "codemirror_mode": {
    "name": "ipython",
    "version": 3
   },
   "file_extension": ".py",
   "mimetype": "text/x-python",
   "name": "python",
   "nbconvert_exporter": "python",
   "pygments_lexer": "ipython3",
   "version": "3.8.19"
  }
 },
 "nbformat": 4,
 "nbformat_minor": 5
}
